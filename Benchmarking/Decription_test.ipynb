{
 "cells": [
  {
   "cell_type": "code",
   "execution_count": 6,
   "metadata": {},
   "outputs": [
    {
     "name": "stdout",
     "output_type": "stream",
     "text": [
      "Requirement already satisfied: pipreqs in c:\\users\\pva677\\appdata\\local\\programs\\python\\python310\\lib\\site-packages (0.4.11)\n",
      "Requirement already satisfied: docopt in c:\\users\\pva677\\appdata\\local\\programs\\python\\python310\\lib\\site-packages (from pipreqs) (0.6.2)\n",
      "Requirement already satisfied: yarg in c:\\users\\pva677\\appdata\\local\\programs\\python\\python310\\lib\\site-packages (from pipreqs) (0.1.9)\n",
      "Requirement already satisfied: requests in c:\\users\\pva677\\appdata\\local\\programs\\python\\python310\\lib\\site-packages (from yarg->pipreqs) (2.27.1)\n",
      "Requirement already satisfied: certifi>=2017.4.17 in c:\\users\\pva677\\appdata\\local\\programs\\python\\python310\\lib\\site-packages (from requests->yarg->pipreqs) (2021.10.8)\n",
      "Requirement already satisfied: urllib3<1.27,>=1.21.1 in c:\\users\\pva677\\appdata\\local\\programs\\python\\python310\\lib\\site-packages (from requests->yarg->pipreqs) (1.26.9)\n",
      "Requirement already satisfied: idna<4,>=2.5 in c:\\users\\pva677\\appdata\\local\\programs\\python\\python310\\lib\\site-packages (from requests->yarg->pipreqs) (3.3)\n",
      "Requirement already satisfied: charset-normalizer~=2.0.0 in c:\\users\\pva677\\appdata\\local\\programs\\python\\python310\\lib\\site-packages (from requests->yarg->pipreqs) (2.0.12)\n",
      "Note: you may need to restart the kernel to use updated packages.\n"
     ]
    },
    {
     "name": "stderr",
     "output_type": "stream",
     "text": [
      "UsageError: Line magic function `%pipreqs` not found.\n"
     ]
    }
   ],
   "source": [
    "import base64\n",
    "import json\n",
    "import base64\n",
    "import json\n",
    "from Cryptodome.Cipher import AES\n",
    "from phpserialize import loads\n",
    "KEY = b'EDnpXl5oxi9+XHjTUbTwMg98jTeCt4tnJx5LaUtanME='"
   ]
  },
  {
   "cell_type": "code",
   "execution_count": 44,
   "metadata": {},
   "outputs": [],
   "source": [
    "def decrypt(laravelEncrypedStringBase64, laravelAppKeyBase64):\n",
    "    # Decode from base64 Laravel encrypted string\n",
    "    dataJson = base64.b64decode(laravelEncrypedStringBase64)\n",
    "    # Load JSON\n",
    "    data = json.loads(dataJson)\n",
    "    # Extract actual encrypted message from JSON (other parts are IV and Signature)\n",
    "    value =  base64.b64decode(data['value'])\n",
    "    # Extract Initialization Vector from JSON (required to create an AES decypher)\n",
    "    iv = base64.b64decode(data['iv'])\n",
    "    # Decode \n",
    "    key = base64.b64decode(laravelAppKeyBase64)  # Laravel KEY comes base64Encoded from .env!\n",
    "    # Create an AES decypher\n",
    "    decrypter = aesDecrypterCBC(iv, key)\n",
    "    # Finally decypher the message\n",
    "    decriptedSerializedMessage = decrypter.decrypt(value)\n",
    "    # deserialize message\n",
    "    try :\n",
    "        # Attempt to deserialize message incase it was created in Laravel with Crypt::encrypt('Hello world.');\n",
    "        decriptedMessage = unserialize(decriptedSerializedMessage)\n",
    "        return str(decriptedMessage)\n",
    "    except:\n",
    "        raise Exception(\"Check you cyphered strings in Laravel using Crypt::encrypt() and NOT Crypt::encryptString()\")\n",
    "\n",
    "def aesDecrypterCBC(iv, _key):\n",
    "    decrypterAES_CBC = AES.new(key=_key,mode=AES.MODE_CBC,IV=iv)\n",
    "    return decrypterAES_CBC\n",
    "\n",
    "def unserialize(serialized):\n",
    "    return loads(serialized)\n",
    "\n",
    "def decrypt_message(raw_message):\n",
    "    decoded_message = base64.b64decode(raw_message)\n",
    "    filtered_message = b''.join(decoded_message.split(b\",\",3)[:3]).replace(b'\"\"',b'\",\"')\n",
    "    if len(filtered_message) != len(decoded_message):\n",
    "        filtered_message = filtered_message + b'}'\n",
    "    message = base64.b64encode(filtered_message)\n",
    "    key = KEY\n",
    "    message = decrypt(message,key)\n",
    "    return_value = base64.b64encode(message.encode(\"utf8\"))\n",
    "    return return_value"
   ]
  },
  {
   "cell_type": "code",
   "execution_count": 45,
   "metadata": {},
   "outputs": [
    {
     "name": "stdout",
     "output_type": "stream",
     "text": [
      "b'eyJpdiI6ImR4eC9pVEV1WERRMlZYaGxyOE5rMVE9PSIsInZhbHVlIjoidnlIMmRZam9sbG9QUmlaWmdua2hJWG5kdHBSdDZXdWc4d3FkKy95d0U5OXZIM2QrWUt2ZDVlRjEraHEyRDlQRGlldW01VWZKaEhncTZ0Z3NuV2hTdW84S2dMaFNJVFc4eFRqYzJlclk0dnM9IiwibWFjIjoiYmY3YWZiYmM1NDU1MDk5YWFkYWY2MDY4OTA4MDZlNmQ3NDJkZWYyMjFmNzFhOGQwNDQ4MzJmNjAxYzJlMzExZCJ9'\n",
      "b'{\"iv\":\"dxx/iTEuXDQ2VXhlr8Nk1Q==\",\"value\":\"vyH2dYjolloPRiZZgnkhIXndtpRt6Wug8wqd+/ywE99vH3d+YKvd5eF1+hq2D9PDieum5UfJhHgq6tgsnWhSuo8KgLhSITW8xTjc2erY4vs=\",\"mac\":\"bf7afbbc5455099aadaf606890806e6d742def221f71a8d044832f601c2e311d\"}'\n",
      "b'{\"iv\":\"dxx/iTEuXDQ2VXhlr8Nk1Q==\",\"value\":\"vyH2dYjolloPRiZZgnkhIXndtpRt6Wug8wqd+/ywE99vH3d+YKvd5eF1+hq2D9PDieum5UfJhHgq6tgsnWhSuo8KgLhSITW8xTjc2erY4vs=\",\"mac\":\"bf7afbbc5455099aadaf606890806e6d742def221f71a8d044832f601c2e311d\"}'\n",
      "b'eyJpdiI6ImR4eC9pVEV1WERRMlZYaGxyOE5rMVE9PSIsInZhbHVlIjoidnlIMmRZam9sbG9QUmlaWmdua2hJWG5kdHBSdDZXdWc4d3FkKy95d0U5OXZIM2QrWUt2ZDVlRjEraHEyRDlQRGlldW01VWZKaEhncTZ0Z3NuV2hTdW84S2dMaFNJVFc4eFRqYzJlclk0dnM9IiwibWFjIjoiYmY3YWZiYmM1NDU1MDk5YWFkYWY2MDY4OTA4MDZlNmQ3NDJkZWYyMjFmNzFhOGQwNDQ4MzJmNjAxYzJlMzExZCJ9'\n"
     ]
    },
    {
     "data": {
      "text/plain": [
       "b'YidPOjg6InN0ZENsYXNzIjoyOntzOjg6InJlbGF0aW9uIjtpOjEzNjY7czo4OiJkb2N1bWVudCI7czoxOiJQIjt9Jw=='"
      ]
     },
     "execution_count": 45,
     "metadata": {},
     "output_type": "execute_result"
    }
   ],
   "source": [
    "##For testing purposes\n",
    "raw_message = b\"eyJpdiI6ImR4eC9pVEV1WERRMlZYaGxyOE5rMVE9PSIsInZhbHVlIjoidnlIMmRZam9sbG9QUmlaWmdua2hJWG5kdHBSdDZXdWc4d3FkKy95d0U5OXZIM2QrWUt2ZDVlRjEraHEyRDlQRGlldW01VWZKaEhncTZ0Z3NuV2hTdW84S2dMaFNJVFc4eFRqYzJlclk0dnM9IiwibWFjIjoiYmY3YWZiYmM1NDU1MDk5YWFkYWY2MDY4OTA4MDZlNmQ3NDJkZWYyMjFmNzFhOGQwNDQ4MzJmNjAxYzJlMzExZCJ9\"\n",
    "decrypt_message(raw_message)"
   ]
  },
  {
   "cell_type": "markdown",
   "metadata": {},
   "source": [
    "# "
   ]
  }
 ],
 "metadata": {
  "interpreter": {
   "hash": "27cf5846c8f9fecf5ff53ccf150c0367fb1c445b8b56ced8a23205180f7c3ad0"
  },
  "kernelspec": {
   "display_name": "Python 3.10.4 64-bit",
   "language": "python",
   "name": "python3"
  },
  "language_info": {
   "codemirror_mode": {
    "name": "ipython",
    "version": 3
   },
   "file_extension": ".py",
   "mimetype": "text/x-python",
   "name": "python",
   "nbconvert_exporter": "python",
   "pygments_lexer": "ipython3",
   "version": "3.10.4"
  },
  "orig_nbformat": 4
 },
 "nbformat": 4,
 "nbformat_minor": 2
}
